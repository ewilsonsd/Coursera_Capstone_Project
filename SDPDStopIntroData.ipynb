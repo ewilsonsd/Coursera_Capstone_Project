{
 "cells": [
  {
   "cell_type": "markdown",
   "metadata": {},
   "source": [
    "# San Diego Police Department Stops per Race"
   ]
  },
  {
   "cell_type": "code",
   "execution_count": 119,
   "metadata": {},
   "outputs": [],
   "source": [
    "%matplotlib inline\n",
    "import pandas as pd\n",
    "import numpy as np\n",
    "import scipy as sp\n",
    "import matplotlib\n",
    "import matplotlib.pyplot as plt\n",
    "import seaborn as sns"
   ]
  },
  {
   "cell_type": "markdown",
   "metadata": {},
   "source": [
    "### Introduction"
   ]
  },
  {
   "cell_type": "markdown",
   "metadata": {},
   "source": [
    "With the death of George Floyd in police custody at the end of May 2020, the national conversation in the United States has once again shifted to the debate on police bias and systemic racism. As well as nearly every other major city, the city of San Diego has seen protests against its current police department, on the argument of unfair, racially biased police activity.  \n",
    "\n",
    "Using data related to the demographics of San Diego's population and the stops made by the San Diego Police Department, this report will analyze data in an attempt to identify what, if any, biases may exist. This report is meant to determine what groups, if any, are disproportionately under or over represented in police stops of persons.\n",
    "\n",
    "This report is independent and unfunded, without any affiliation to any groups or entities. This report is not intended to draw conclusions on why a group may or may not be over or under represented; the intention is to identify if any biases seem to exist from the available data. Any conclusions or observations not explicitly listed in this report are drawn at the discretion of the reader."
   ]
  },
  {
   "cell_type": "markdown",
   "metadata": {},
   "source": [
    "### Data"
   ]
  },
  {
   "cell_type": "markdown",
   "metadata": {},
   "source": [
    "#### Data Sources"
   ]
  },
  {
   "cell_type": "markdown",
   "metadata": {},
   "source": [
    "The data used for this report consists of San Diego Police Department (herein SDPD) data and US Census data. \n",
    "\n",
    "The SDPD data \"is collected according to requirements set forth in Government Code section 12525.5 that was enacted as a result of the Racial and Identity Profiling Act of 2015 (AB 953), also known as RIPA.\" All of the data used is public and available at https://data.sandiego.gov/datasets/. \n",
    "\n",
    "Specifically, this report will use \"Race of Persons Stopped\" in order to establish the demographics of police stops (https://data.sandiego.gov/datasets/police-ripa-race/), and \"Reason for Stop\" to establish the reason for stopping a person (https://data.sandiego.gov/datasets/police-ripa-stop-reason/). \n",
    "\n",
    "US Census data will be used to define the racial demographic percentages of the city of San Diego, based on the 2010 US Census, as the 2020 Census is currently taking place. (https://web.archive.org/web/20120802190059/http://quickfacts.census.gov/qfd/states/06/0666000.html)."
   ]
  },
  {
   "cell_type": "markdown",
   "metadata": {},
   "source": [
    "#### Data Limitations"
   ]
  },
  {
   "cell_type": "markdown",
   "metadata": {},
   "source": [
    "The SDPD data on race is based on the stopping officer's perception of the stopped person's race, which may or may not be an accurate reflection with the race the stopped person identifies as / with. \n",
    "\n",
    "Both the data of SDPD and the Census do not have the same defined racial values, requiring certain values to be merged or omitted. Due to omission, only 97.6% of the Census data may be accurately used."
   ]
  },
  {
   "cell_type": "markdown",
   "metadata": {},
   "source": [
    "#### Data Sorting and Cleaning"
   ]
  },
  {
   "cell_type": "markdown",
   "metadata": {},
   "source": [
    "##### Census Data"
   ]
  },
  {
   "cell_type": "markdown",
   "metadata": {},
   "source": [
    "From the Census data, only the information relevant to the demographic makeup of San Diego will be used.\n",
    "\n",
    "In order to have the same racial groups present in both Census and SDPD data, the Census values of \"White\" and \"Multiracial\" will be dropped, where \"White / Non-Latino\" will be renamed as \"White\". \"Asian\" and \"Hawaiian / other Pacific Islander\" will be merged into the group \"Asian\". The values for \"Black / African American\" will be renamed \"Black\", and the values for \"Hispanic / Latino/a\" will be renamed \"Latinx\", in respect to currently common self identification trends. \"Native American\" will remain unchanged."
   ]
  },
  {
   "cell_type": "code",
   "execution_count": 50,
   "metadata": {},
   "outputs": [
    {
     "name": "stderr",
     "output_type": "stream",
     "text": [
      "/home/jupyterlab/conda/envs/python/lib/python3.6/site-packages/ipykernel_launcher.py:6: SettingWithCopyWarning: \n",
      "A value is trying to be set on a copy of a slice from a DataFrame.\n",
      "Try using .loc[row_indexer,col_indexer] = value instead\n",
      "\n",
      "See the caveats in the documentation: https://pandas.pydata.org/pandas-docs/stable/user_guide/indexing.html#returning-a-view-versus-a-copy\n",
      "  \n"
     ]
    }
   ],
   "source": [
    "# Demographics DF = df_dem\n",
    "df_sdc = pd.read_excel('data/2010SDcensus.xls')\n",
    "df_sdc = df_sdc[['People QuickFacts', 'San Diego']]\n",
    "df_sdc = df_sdc.rename(columns = { 'People QuickFacts' : 'Race', 'San Diego' : 'Percent'})\n",
    "df_dem = df_sdc.iloc[9:17]\n",
    "df_dem['Percent'] = df_dem['Percent'].str.rstrip('%').astype('float')\n",
    "df_dem = df_dem.reset_index(drop = True)\n",
    "df_dem = df_dem.rename({0: 'White', 1: 'Black', 2: 'Native American', 3: 'Asian', 4: 'Hawaiian / other PI', 5: 'Multiracial', 6 : 'Latinx', 7 : 'White / non-Latinx'}, axis='index')\n",
    "df_dem = df_dem.sort_values(by = 'Percent', ascending = False)\n",
    "df_dem = df_dem.drop(['White', 'Multiracial', 'Asian', 'Hawaiian / other PI'])\n",
    "new_row = {'Race': 'Asian, Native Hawaiian and Other Pacific Islander, percent, 2010(a)', 'Percent': 16.4}\n",
    "df_dem = df_dem.append(new_row, ignore_index = True)\n",
    "df_dem = df_dem.rename({2: 'Black',\n",
    "                          3: 'Native American',\n",
    "                          1: 'Latinx',\n",
    "                          0: 'White',\n",
    "                          4: 'Asian'},\n",
    "                          axis='index')                    \n",
    "df_dem = df_dem.sort_values(by = 'Percent', ascending = False)"
   ]
  },
  {
   "cell_type": "markdown",
   "metadata": {},
   "source": [
    "##### SDPD Data"
   ]
  },
  {
   "cell_type": "markdown",
   "metadata": {},
   "source": [
    "From the SDPD data, both data sets will be merged on their Stop ID, and any duplicates or values which are missing crucial information are dropped. The data set is made up of the shared \"Stop ID\", the \"Race\" of each person stopped from the \"Race of Persons Stopped\" data and the \"Reason\" of each stop from the \"Reason for Stop\" data.  \n",
    "\n",
    "In order to match Census racial values, \"Asian\", \"Middle Eastern or South Asian\", and \"Pacific Islander\" will be merged into the group \"Asian\". Similarly, \"Black\" will be used for \"Black/African American\" and \"Latinx\" will be used for \"Hispanic/Latino/a\", for the same reasons mentioned with the Census Data. \"White\" and \"Native American\" will remain unchanged. The number of stops per race will be divided by the total number of stops, in order to establish a percent of stops that can be compared to the Census data.\n",
    "\n",
    "The data values for \"Reason for Stop\" will be turned into percents, by racial makeup, of the total number of stops for a given reason. The two reasons that will be focused on are \"Traffic Violation\" and \"Reasonable Suspicion\", which together account for over 93% of all stops."
   ]
  },
  {
   "cell_type": "code",
   "execution_count": 27,
   "metadata": {},
   "outputs": [],
   "source": [
    "# Stop ID DF = df_sr\n",
    "df_stop_reason = pd.read_csv('http://seshat.datasd.org/pd/ripa_stop_reason_datasd.csv')\n",
    "df_race = pd.read_csv('http://seshat.datasd.org/pd/ripa_race_datasd.csv')\n",
    "df_stop_reason = df_stop_reason[['stop_id','reason_for_stop']]\n",
    "df_race = df_race[['stop_id','race']]\n",
    "df_sr = pd.merge(df_race, df_stop_reason, on='stop_id')\n",
    "df_sr.drop_duplicates(subset = 'stop_id', \n",
    "                     keep = False, inplace = True) \n",
    "df_sr = df_sr.reset_index(drop = True)\n",
    "df_sr = df_sr.rename(columns = { 'stop_id' : 'Stop ID', 'race' : 'Race', 'reason_for_stop' : 'Reason'})\n",
    "df_sr = df_sr.replace(['Asian', 'Middle Eastern or South Asian', 'Pacific Islander'], 'Asian')"
   ]
  },
  {
   "cell_type": "code",
   "execution_count": 4,
   "metadata": {},
   "outputs": [],
   "source": [
    "# Percentage of stops per race = df_rc\n",
    "per = df_sr['Race'].value_counts() / 253513 * 100\n",
    "df_rc = pd.DataFrame(data=per)\n",
    "df_rc = df_rc.reset_index(drop=False)\n",
    "df_rc = df_rc.rename(columns = { 'index' : 'Race', 'Race' : 'Percent'})\n",
    "df_rc['Percent'] = df_rc['Percent'].round(decimals=1)\n",
    "df_rc = df_rc.rename({2: 'Black',\n",
    "                          4: 'Native American',\n",
    "                          1: 'Latinx',\n",
    "                          0: 'White',\n",
    "                          3: 'Asian'},\n",
    "                          axis='index')  \n",
    "df_rc = df_rc.sort_values(by = 'Percent', ascending = False)"
   ]
  },
  {
   "cell_type": "code",
   "execution_count": null,
   "metadata": {},
   "outputs": [],
   "source": [
    "# DF for black race values = df_black\n",
    "df_black = df_sr[df_sr['Race'] == 'Black/African American']\n",
    "df_black = df_black.reset_index(drop = True)\n",
    "df_black = df_black['Reason'].value_counts()\n",
    "# DF for white race values = df_white\n",
    "df_white = df_sr[df_sr['Race'] == 'White']\n",
    "df_white = df_white.reset_index(drop = True)\n",
    "df_white = df_white['Reason'].value_counts()\n",
    "# DF for latinx race values = df_latinx\n",
    "df_latinx = df_sr[df_sr['Race'] == 'Hispanic/Latino/a']\n",
    "df_latinx = df_latinx.reset_index(drop = True)\n",
    "df_latinx = df_latinx['Reason'].value_counts()\n",
    "# DF for native american race values = df_na\n",
    "df_na = df_sr[df_sr['Race'] == 'Native American']\n",
    "df_na = df_na.reset_index(drop = True)\n",
    "df_na = df_na['Reason'].value_counts()\n",
    "# DF for asian race values = df_asian\n",
    "df_asian = df_sr[df_sr['Race'] == 'Asian']\n",
    "df_asian = df_asian.reset_index(drop = True)\n",
    "df_asian = df_asian['Reason'].value_counts()\n",
    "# df for reason of stop by race = df_reason\n",
    "df_reason = pd.DataFrame(data = {'White' : df_white,\n",
    "                     'Latinx' : df_latinx,\n",
    "                     'Black' : df_black,\n",
    "                     'Asian' : df_asian,\n",
    "                     'Native American' : df_na})\n",
    "df_reason = df_reason.reset_index(drop=False)\n",
    "df_reason = df_reason.rename({0: 'Consented Search',\n",
    "                          1: 'Violation of School Policy',\n",
    "                          2: 'Truancy',\n",
    "                          3: 'Warrant or Wanted Person',\n",
    "                          4: 'Parole or Probation Related',\n",
    "                          5: 'Education Code Discipline',\n",
    "                          6: 'Reasonable Suspicion',\n",
    "                          7: 'Traffic Violation'},\n",
    "                          axis='index') \n",
    "df_reason = df_reason.rename(columns={'index' : 'Reason for Stop'})\n",
    "df_reason['Total'] = df_reason.sum(axis=1)"
   ]
  }
 ],
 "metadata": {
  "kernelspec": {
   "display_name": "Python",
   "language": "python",
   "name": "conda-env-python-py"
  },
  "language_info": {
   "codemirror_mode": {
    "name": "ipython",
    "version": 3
   },
   "file_extension": ".py",
   "mimetype": "text/x-python",
   "name": "python",
   "nbconvert_exporter": "python",
   "pygments_lexer": "ipython3",
   "version": "3.6.10"
  }
 },
 "nbformat": 4,
 "nbformat_minor": 4
}
