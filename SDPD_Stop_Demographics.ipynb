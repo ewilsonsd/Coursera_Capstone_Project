{
 "cells": [
  {
   "cell_type": "markdown",
   "metadata": {},
   "source": [
    "# San Diego Police Department Stops per Race"
   ]
  },
  {
   "cell_type": "code",
   "execution_count": 119,
   "metadata": {},
   "outputs": [],
   "source": [
    "%matplotlib inline\n",
    "import pandas as pd\n",
    "import numpy as np\n",
    "import scipy as sp\n",
    "import matplotlib\n",
    "import matplotlib.pyplot as plt\n",
    "import seaborn as sns"
   ]
  },
  {
   "cell_type": "markdown",
   "metadata": {},
   "source": [
    "### Introduction"
   ]
  },
  {
   "cell_type": "markdown",
   "metadata": {},
   "source": [
    "With the death of George Floyd in police custody at the end of May 2020, the national conversation in the United States has once again shifted to the debate on police bias and systemic racism. As well as nearly every other major city, the city of San Diego has seen protests against its current police department, on the argument of unfair, racially biased police activity.  \n",
    "\n",
    "Using data related to the demographics of San Diego's population and the stops made by the San Diego Police Department, this report will analyze data in an attempt to identify what, if any, biases may exist. This report is meant to determine what groups, if any, are disproportionately under or over represented in police stops of persons.\n",
    "\n",
    "This report is independent and unfunded, without any affiliation to any groups or entities. This report is not intended to draw conclusions on why a group may or may not be over or under represented; the intention is to identify if any biases seem to exist from the available data. Any conclusions or observations not explicitly listed in this report are drawn at the discretion of the reader."
   ]
  },
  {
   "cell_type": "markdown",
   "metadata": {},
   "source": [
    "### Data"
   ]
  },
  {
   "cell_type": "markdown",
   "metadata": {},
   "source": [
    "#### Data Sources"
   ]
  },
  {
   "cell_type": "markdown",
   "metadata": {},
   "source": [
    "The data used for this report consists of San Diego Police Department (herein SDPD) data and US Census data. \n",
    "\n",
    "The SDPD data \"is collected according to requirements set forth in Government Code section 12525.5 that was enacted as a result of the Racial and Identity Profiling Act of 2015 (AB 953), also known as RIPA.\" All of the data used is public and available at https://data.sandiego.gov/datasets/. \n",
    "\n",
    "Specifically, this report will use \"Race of Persons Stopped\" in order to establish the demographics of police stops (https://data.sandiego.gov/datasets/police-ripa-race/), and \"Reason for Stop\" to establish the reason for stopping a person (https://data.sandiego.gov/datasets/police-ripa-stop-reason/). \n",
    "\n",
    "US Census data will be used to define the racial demographic percentages of the city of San Diego, based on the 2010 US Census, as the 2020 Census is currently taking place. (https://web.archive.org/web/20120802190059/http://quickfacts.census.gov/qfd/states/06/0666000.html)."
   ]
  },
  {
   "cell_type": "markdown",
   "metadata": {},
   "source": [
    "#### Data Limitations"
   ]
  },
  {
   "cell_type": "markdown",
   "metadata": {},
   "source": [
    "The SDPD data on race is based on the stopping officer's perception of the stopped person's race, which may or may not be an accurate reflection with the race the stopped person identifies as / with. \n",
    "\n",
    "Both the data of SDPD and the Census do not have the same defined racial values, requiring certain values to be merged or omitted. Due to omission, only 97.6% of the Census data may be accurately used."
   ]
  },
  {
   "cell_type": "markdown",
   "metadata": {},
   "source": [
    "#### Data Sorting and Cleaning"
   ]
  },
  {
   "cell_type": "markdown",
   "metadata": {},
   "source": [
    "##### Census Data"
   ]
  },
  {
   "cell_type": "markdown",
   "metadata": {},
   "source": [
    "From the Census data, only the information relevant to the demographic makeup of San Diego will be used.\n",
    "\n",
    "In order to have the same racial groups present in both Census and SDPD data, the Census values of \"White\" and \"Multiracial\" will be dropped, where \"White / Non-Latino\" will be renamed as \"White\". \"Asian\" and \"Hawaiian / other Pacific Islander\" will be merged into the group \"Asian\". The values for \"Black / African American\" will be renamed \"Black\", and the values for \"Hispanic / Latino/a\" will be renamed \"Latinx\", in respect to currently common self identification trends. \"Native American\" will remain unchanged."
   ]
  },
  {
   "cell_type": "code",
   "execution_count": 50,
   "metadata": {},
   "outputs": [
    {
     "name": "stderr",
     "output_type": "stream",
     "text": [
      "/home/jupyterlab/conda/envs/python/lib/python3.6/site-packages/ipykernel_launcher.py:6: SettingWithCopyWarning: \n",
      "A value is trying to be set on a copy of a slice from a DataFrame.\n",
      "Try using .loc[row_indexer,col_indexer] = value instead\n",
      "\n",
      "See the caveats in the documentation: https://pandas.pydata.org/pandas-docs/stable/user_guide/indexing.html#returning-a-view-versus-a-copy\n",
      "  \n"
     ]
    }
   ],
   "source": [
    "# Demographics DF = df_dem\n",
    "df_sdc = pd.read_excel('data/2010SDcensus.xls')\n",
    "df_sdc = df_sdc[['People QuickFacts', 'San Diego']]\n",
    "df_sdc = df_sdc.rename(columns = { 'People QuickFacts' : 'Race', 'San Diego' : 'Percent'})\n",
    "df_dem = df_sdc.iloc[9:17]\n",
    "df_dem['Percent'] = df_dem['Percent'].str.rstrip('%').astype('float')\n",
    "df_dem = df_dem.reset_index(drop = True)\n",
    "df_dem = df_dem.rename({0: 'White', 1: 'Black', 2: 'Native American', 3: 'Asian', 4: 'Hawaiian / other PI', 5: 'Multiracial', 6 : 'Latinx', 7 : 'White / non-Latinx'}, axis='index')\n",
    "df_dem = df_dem.sort_values(by = 'Percent', ascending = False)\n",
    "df_dem = df_dem.drop(['White', 'Multiracial', 'Asian', 'Hawaiian / other PI'])\n",
    "new_row = {'Race': 'Asian, Native Hawaiian and Other Pacific Islander, percent, 2010(a)', 'Percent': 16.4}\n",
    "df_dem = df_dem.append(new_row, ignore_index = True)\n",
    "df_dem = df_dem.rename({2: 'Black',\n",
    "                          3: 'Native American',\n",
    "                          1: 'Latinx',\n",
    "                          0: 'White',\n",
    "                          4: 'Asian'},\n",
    "                          axis='index')                    \n",
    "df_dem = df_dem.sort_values(by = 'Percent', ascending = False)"
   ]
  },
  {
   "cell_type": "markdown",
   "metadata": {},
   "source": [
    "##### SDPD Data"
   ]
  },
  {
   "cell_type": "markdown",
   "metadata": {},
   "source": [
    "From the SDPD data, both data sets will be merged on their Stop ID, and any duplicates or values which are missing crucial information are dropped. The data set is made up of the shared \"Stop ID\", the \"Race\" of each person stopped from the \"Race of Persons Stopped\" data and the \"Reason\" of each stop from the \"Reason for Stop\" data.  \n",
    "\n",
    "In order to match Census racial values, \"Asian\", \"Middle Eastern or South Asian\", and \"Pacific Islander\" will be merged into the group \"Asian\". Similarly, \"Black\" will be used for \"Black/African American\" and \"Latinx\" will be used for \"Hispanic/Latino/a\", for the same reasons mentioned with the Census Data. \"White\" and \"Native American\" will remain unchanged. The number of stops per race will be divided by the total number of stops, in order to establish a percent of stops that can be compared to the Census data.\n",
    "\n",
    "The data values for \"Reason for Stop\" will be turned into percents, by racial makeup, of the total number of stops for a given reason. The two reasons that will be focused on are \"Traffic Violation\" and \"Reasonable Suspicion\", which together account for over 93% of all stops."
   ]
  },
  {
   "cell_type": "code",
   "execution_count": 27,
   "metadata": {},
   "outputs": [],
   "source": [
    "# Stop ID DF = df_sr\n",
    "df_stop_reason = pd.read_csv('http://seshat.datasd.org/pd/ripa_stop_reason_datasd.csv')\n",
    "df_race = pd.read_csv('http://seshat.datasd.org/pd/ripa_race_datasd.csv')\n",
    "df_stop_reason = df_stop_reason[['stop_id','reason_for_stop']]\n",
    "df_race = df_race[['stop_id','race']]\n",
    "df_sr = pd.merge(df_race, df_stop_reason, on='stop_id')\n",
    "df_sr.drop_duplicates(subset = 'stop_id', \n",
    "                     keep = False, inplace = True) \n",
    "df_sr = df_sr.reset_index(drop = True)\n",
    "df_sr = df_sr.rename(columns = { 'stop_id' : 'Stop ID', 'race' : 'Race', 'reason_for_stop' : 'Reason'})\n",
    "df_sr = df_sr.replace(['Asian', 'Middle Eastern or South Asian', 'Pacific Islander'], 'Asian')"
   ]
  },
  {
   "cell_type": "code",
   "execution_count": 4,
   "metadata": {},
   "outputs": [],
   "source": [
    "# Percentage of stops per race = df_rc\n",
    "per = df_sr['Race'].value_counts() / 253513 * 100\n",
    "df_rc = pd.DataFrame(data=per)\n",
    "df_rc = df_rc.reset_index(drop=False)\n",
    "df_rc = df_rc.rename(columns = { 'index' : 'Race', 'Race' : 'Percent'})\n",
    "df_rc['Percent'] = df_rc['Percent'].round(decimals=1)\n",
    "df_rc = df_rc.rename({2: 'Black',\n",
    "                          4: 'Native American',\n",
    "                          1: 'Latinx',\n",
    "                          0: 'White',\n",
    "                          3: 'Asian'},\n",
    "                          axis='index')  \n",
    "df_rc = df_rc.sort_values(by = 'Percent', ascending = False)"
   ]
  },
  {
   "cell_type": "code",
   "execution_count": 5,
   "metadata": {},
   "outputs": [],
   "source": [
    "# DF for black race values = df_black\n",
    "df_black = df_sr[df_sr['Race'] == 'Black/African American']\n",
    "df_black = df_black.reset_index(drop = True)\n",
    "df_black = df_black['Reason'].value_counts()"
   ]
  },
  {
   "cell_type": "code",
   "execution_count": 6,
   "metadata": {},
   "outputs": [],
   "source": [
    "# DF for white race values = df_white\n",
    "df_white = df_sr[df_sr['Race'] == 'White']\n",
    "df_white = df_white.reset_index(drop = True)\n",
    "df_white = df_white['Reason'].value_counts()"
   ]
  },
  {
   "cell_type": "code",
   "execution_count": 7,
   "metadata": {},
   "outputs": [],
   "source": [
    "# DF for latinx race values = df_latinx\n",
    "df_latinx = df_sr[df_sr['Race'] == 'Hispanic/Latino/a']\n",
    "df_latinx = df_latinx.reset_index(drop = True)\n",
    "df_latinx = df_latinx['Reason'].value_counts()"
   ]
  },
  {
   "cell_type": "code",
   "execution_count": 8,
   "metadata": {},
   "outputs": [],
   "source": [
    "# DF for native american race values = df_na\n",
    "df_na = df_sr[df_sr['Race'] == 'Native American']\n",
    "df_na = df_na.reset_index(drop = True)\n",
    "df_na = df_na['Reason'].value_counts()"
   ]
  },
  {
   "cell_type": "code",
   "execution_count": 10,
   "metadata": {},
   "outputs": [],
   "source": [
    "# DF for asian race values = df_asian\n",
    "df_asian = df_sr[df_sr['Race'] == 'Asian']\n",
    "df_asian = df_asian.reset_index(drop = True)\n",
    "df_asian = df_asian['Reason'].value_counts()"
   ]
  },
  {
   "cell_type": "code",
   "execution_count": 60,
   "metadata": {},
   "outputs": [],
   "source": [
    "# df for reason of stop by race = df_reason\n",
    "df_reason = pd.DataFrame(data = {'White' : df_white,\n",
    "                     'Latinx' : df_latinx,\n",
    "                     'Black' : df_black,\n",
    "                     'Asian' : df_asian,\n",
    "                     'Native American' : df_na})\n",
    "df_reason = df_reason.reset_index(drop=False)\n",
    "df_reason = df_reason.rename({0: 'Consented Search',\n",
    "                          1: 'Violation of School Policy',\n",
    "                          2: 'Truancy',\n",
    "                          3: 'Warrant or Wanted Person',\n",
    "                          4: 'Parole or Probation Related',\n",
    "                          5: 'Education Code Discipline',\n",
    "                          6: 'Reasonable Suspicion',\n",
    "                          7: 'Traffic Violation'},\n",
    "                          axis='index') \n",
    "df_reason = df_reason.rename(columns={'index' : 'Reason for Stop'})\n",
    "df_reason['Total'] = df_reason.sum(axis=1)"
   ]
  },
  {
   "cell_type": "code",
   "execution_count": 61,
   "metadata": {},
   "outputs": [],
   "source": [
    "# df for percent of reason stopped by race = df_rper\n",
    "df_rper = df_reason\n",
    "cols = ['White', 'Latinx', 'Black', 'Asian', 'Native American', 'Total']\n",
    "df_rper[cols] = df_rper[cols].div(df_rper[cols].sum(axis=0), axis=1).multiply(100).round(decimals=1)"
   ]
  },
  {
   "cell_type": "markdown",
   "metadata": {},
   "source": [
    "### Methodology"
   ]
  },
  {
   "cell_type": "markdown",
   "metadata": {},
   "source": [
    "#### Data Analysis"
   ]
  },
  {
   "cell_type": "markdown",
   "metadata": {},
   "source": [
    "All present demographic data will be presented as percentages of a population, in order to easily compare values from various data sets. This report is intended for a general audience and will not go into great depth in terms of modeling and testing.\n",
    "\n",
    "A ratio between data sets will be established in order to define the likelihood of a person being stopped based on their race, where the value of 1 is default / proportional, a value of less than one being disproportionately less likely to be stopped, and a value greater than 1 being disproportionately more likely to be stopped. The standard deviation will be mentioned if any group of persons, or \"Race\", falls outside of it."
   ]
  },
  {
   "cell_type": "code",
   "execution_count": 29,
   "metadata": {},
   "outputs": [],
   "source": [
    "# Demographics of stops and population DF = df_merged\n",
    "# Used to compare both data frames\n",
    "df_merged = df_rc.merge(df_dem, how='outer', left_index=True, right_index=True)\n",
    "df_merged = df_merged.drop(columns=['Race_x'])\n",
    "df_merged = df_merged.rename(columns = { 'Percent_x' : 'Stop Percent', 'Race_y' : 'Race', 'Percent_y' : 'Population Percent'})\n",
    "col = ['Race', 'Population Percent', 'Stop Percent']\n",
    "df_merged = df_merged.reindex(columns=col)\n",
    "df_merged = df_merged.sort_values(by = 'Stop Percent', ascending = False)"
   ]
  },
  {
   "cell_type": "code",
   "execution_count": 31,
   "metadata": {},
   "outputs": [],
   "source": [
    "# Ratio of population to stop percent = df_ratio\n",
    "\n",
    "pratio = df_merged.groupby('Race')['Population Percent'].mean()\n",
    "sratio = df_merged.groupby('Race')['Stop Percent'].mean()\n",
    "psratio = sratio / pratio\n",
    "\n",
    "df_ratio = pd.DataFrame(data = psratio)\n",
    "\n",
    "df_ratio = df_ratio.reset_index(drop=False)\n",
    "df_ratio = df_ratio.rename(columns = { 0 : 'Stops per Population'})\n",
    "df_ratio = df_ratio.drop(columns=['Race'])\n",
    "df_ratio['Stops per Population'] = df_ratio['Stops per Population'].round(decimals=1)\n",
    "df_ratio = df_ratio.rename({2: 'Black',\n",
    "                          0: 'Native American',\n",
    "                          3: 'Latinx',\n",
    "                          4: 'White',\n",
    "                          1: 'Asian'},\n",
    "                          axis='index')  \n",
    "df_ratio = df_ratio.sort_values(by = 'Stops per Population', ascending = False)\n",
    "#df_ratio.std() <--- Stops per Population    0.978264"
   ]
  },
  {
   "cell_type": "markdown",
   "metadata": {},
   "source": [
    "### Results"
   ]
  },
  {
   "cell_type": "markdown",
   "metadata": {},
   "source": [
    "#### Demographics of San Diego"
   ]
  },
  {
   "cell_type": "markdown",
   "metadata": {},
   "source": [
    "The demographics of San Diego, based on the Census data with the modifications mentioned in the Data section, are:"
   ]
  },
  {
   "cell_type": "code",
   "execution_count": 109,
   "metadata": {},
   "outputs": [
    {
     "data": {
      "text/html": [
       "<div>\n",
       "<style scoped>\n",
       "    .dataframe tbody tr th:only-of-type {\n",
       "        vertical-align: middle;\n",
       "    }\n",
       "\n",
       "    .dataframe tbody tr th {\n",
       "        vertical-align: top;\n",
       "    }\n",
       "\n",
       "    .dataframe thead th {\n",
       "        text-align: right;\n",
       "    }\n",
       "</style>\n",
       "<table border=\"1\" class=\"dataframe\">\n",
       "  <thead>\n",
       "    <tr style=\"text-align: right;\">\n",
       "      <th></th>\n",
       "      <th>Race</th>\n",
       "      <th>Percent</th>\n",
       "    </tr>\n",
       "  </thead>\n",
       "  <tbody>\n",
       "    <tr>\n",
       "      <th>White</th>\n",
       "      <td>White persons not Hispanic, percent, 2010</td>\n",
       "      <td>45.1</td>\n",
       "    </tr>\n",
       "    <tr>\n",
       "      <th>Latinx</th>\n",
       "      <td>Persons of Hispanic or Latino origin, percent,...</td>\n",
       "      <td>28.8</td>\n",
       "    </tr>\n",
       "    <tr>\n",
       "      <th>Asian</th>\n",
       "      <td>Asian, Native Hawaiian and Other Pacific Islan...</td>\n",
       "      <td>16.4</td>\n",
       "    </tr>\n",
       "    <tr>\n",
       "      <th>Black</th>\n",
       "      <td>Black persons, percent, 2010 (a)</td>\n",
       "      <td>6.7</td>\n",
       "    </tr>\n",
       "    <tr>\n",
       "      <th>Native American</th>\n",
       "      <td>American Indian and Alaska Native persons, per...</td>\n",
       "      <td>0.6</td>\n",
       "    </tr>\n",
       "  </tbody>\n",
       "</table>\n",
       "</div>"
      ],
      "text/plain": [
       "                                                              Race  Percent\n",
       "White                White persons not Hispanic, percent, 2010         45.1\n",
       "Latinx           Persons of Hispanic or Latino origin, percent,...     28.8\n",
       "Asian            Asian, Native Hawaiian and Other Pacific Islan...     16.4\n",
       "Black                         Black persons, percent, 2010 (a)          6.7\n",
       "Native American  American Indian and Alaska Native persons, per...      0.6"
      ]
     },
     "execution_count": 109,
     "metadata": {},
     "output_type": "execute_result"
    }
   ],
   "source": [
    "df_dem"
   ]
  },
  {
   "cell_type": "markdown",
   "metadata": {},
   "source": [
    "Graphically, the population percentages are show below."
   ]
  },
  {
   "cell_type": "code",
   "execution_count": 113,
   "metadata": {},
   "outputs": [
    {
     "data": {
      "image/png": "[encoded data removed]",
      "text/plain": [
       "<Figure size 1008x576 with 1 Axes>"
      ]
     },
     "metadata": {
      "needs_background": "light"
     },
     "output_type": "display_data"
    }
   ],
   "source": [
    "df_dem.plot(kind='bar', figsize=(14, 8), color='skyblue')\n",
    "\n",
    "plt.xlabel('Race', fontsize = 14) \n",
    "plt.ylabel('Population Percent', fontsize = 12) \n",
    "plt.title('Fig 1: San Diego City Demographics', fontsize = 20) \n",
    "\n",
    "plt.show()"
   ]
  },
  {
   "cell_type": "code",
   "execution_count": null,
   "metadata": {},
   "outputs": [],
   "source": []
  },
  {
   "cell_type": "markdown",
   "metadata": {},
   "source": [
    "#### Police Stops in San Diego"
   ]
  },
  {
   "cell_type": "markdown",
   "metadata": {},
   "source": [
    "The demographics of police stops in San Diego, based on SDPD data with the modifications mentioned in the Data section, are:"
   ]
  },
  {
   "cell_type": "code",
   "execution_count": 112,
   "metadata": {},
   "outputs": [
    {
     "data": {
      "text/html": [
       "<div>\n",
       "<style scoped>\n",
       "    .dataframe tbody tr th:only-of-type {\n",
       "        vertical-align: middle;\n",
       "    }\n",
       "\n",
       "    .dataframe tbody tr th {\n",
       "        vertical-align: top;\n",
       "    }\n",
       "\n",
       "    .dataframe thead th {\n",
       "        text-align: right;\n",
       "    }\n",
       "</style>\n",
       "<table border=\"1\" class=\"dataframe\">\n",
       "  <thead>\n",
       "    <tr style=\"text-align: right;\">\n",
       "      <th></th>\n",
       "      <th>Race</th>\n",
       "      <th>Percent</th>\n",
       "    </tr>\n",
       "  </thead>\n",
       "  <tbody>\n",
       "    <tr>\n",
       "      <th>White</th>\n",
       "      <td>White</td>\n",
       "      <td>42.7</td>\n",
       "    </tr>\n",
       "    <tr>\n",
       "      <th>Latinx</th>\n",
       "      <td>Hispanic/Latino/a</td>\n",
       "      <td>29.1</td>\n",
       "    </tr>\n",
       "    <tr>\n",
       "      <th>Black</th>\n",
       "      <td>Black/African American</td>\n",
       "      <td>18.7</td>\n",
       "    </tr>\n",
       "    <tr>\n",
       "      <th>Asian</th>\n",
       "      <td>Asian</td>\n",
       "      <td>9.2</td>\n",
       "    </tr>\n",
       "    <tr>\n",
       "      <th>Native American</th>\n",
       "      <td>Native American</td>\n",
       "      <td>0.2</td>\n",
       "    </tr>\n",
       "  </tbody>\n",
       "</table>\n",
       "</div>"
      ],
      "text/plain": [
       "                                   Race  Percent\n",
       "White                             White     42.7\n",
       "Latinx                Hispanic/Latino/a     29.1\n",
       "Black            Black/African American     18.7\n",
       "Asian                             Asian      9.2\n",
       "Native American         Native American      0.2"
      ]
     },
     "execution_count": 112,
     "metadata": {},
     "output_type": "execute_result"
    }
   ],
   "source": [
    "df_rc"
   ]
  },
  {
   "cell_type": "markdown",
   "metadata": {},
   "source": [
    "Graphically, the stop percentages, by race, are shown below."
   ]
  },
  {
   "cell_type": "code",
   "execution_count": 114,
   "metadata": {},
   "outputs": [
    {
     "data": {
      "image/png": "[encoded data removed]",
      "text/plain": [
       "<Figure size 1008x576 with 1 Axes>"
      ]
     },
     "metadata": {
      "needs_background": "light"
     },
     "output_type": "display_data"
    }
   ],
   "source": [
    "df_rc.plot(kind='bar', figsize=(14, 8), color='maroon')\n",
    "\n",
    "plt.xlabel('Race', fontsize = 14) \n",
    "plt.ylabel('Stop Percent', fontsize = 12) \n",
    "plt.title('Fig 2: SDPD Stop Demographics', fontsize = 20) \n",
    "\n",
    "plt.show()"
   ]
  },
  {
   "cell_type": "code",
   "execution_count": null,
   "metadata": {},
   "outputs": [],
   "source": []
  },
  {
   "cell_type": "markdown",
   "metadata": {},
   "source": [
    "#### Populations Percent versus Stop Percent"
   ]
  },
  {
   "cell_type": "markdown",
   "metadata": {},
   "source": [
    "Using the data from both the census and stop data, the demographics of the population versus persons stopped can be plotted next to one another to be compared visually, as shown in the table below."
   ]
  },
  {
   "cell_type": "code",
   "execution_count": 115,
   "metadata": {},
   "outputs": [
    {
     "data": {
      "image/png": "[encoded data removed]",
      "text/plain": [
       "<Figure size 864x576 with 1 Axes>"
      ]
     },
     "metadata": {
      "needs_background": "light"
     },
     "output_type": "display_data"
    }
   ],
   "source": [
    "labels = ['White', 'Latinx', 'Black', 'Asian', 'Native American']\n",
    "x = np.arange(len(labels))  \n",
    "width = 0.35  \n",
    "\n",
    "fig, ax = plt.subplots(figsize=(12,8))\n",
    "rects1 = ax.bar(x - width/2, df_merged['Stop Percent'], width, label='Percent of Stops', color='maroon')\n",
    "rects2 = ax.bar(x + width/2, df_merged['Population Percent'], width, label='Percent of Population', color='skyblue')\n",
    "\n",
    "\n",
    "ax.set_ylabel('Percentage of')\n",
    "ax.set_title('Fig 3: Percentage of SDPD Stops versus Population', fontsize=20)\n",
    "ax.set_xticks(x)\n",
    "ax.set_xticklabels(df_merged.index, fontsize=14)\n",
    "ax.legend()\n",
    "\n",
    "\n",
    "def autolabel(rects):\n",
    "    \"\"\"Attach a text label above each bar in *rects*, displaying its height.\"\"\"\n",
    "    for rect in rects:\n",
    "        height = rect.get_height()\n",
    "        ax.annotate('{}'.format(height),\n",
    "                    xy=(rect.get_x() + rect.get_width() / 2, height),\n",
    "                    xytext=(0, 3),  # 3 points vertical offset\n",
    "                    textcoords=\"offset points\",\n",
    "                    ha='center', va='bottom')\n",
    "\n",
    "\n",
    "autolabel(rects1)\n",
    "autolabel(rects2)\n",
    "\n",
    "fig.tight_layout()\n",
    "\n",
    "plt.show()"
   ]
  },
  {
   "cell_type": "markdown",
   "metadata": {},
   "source": [
    "By dividing the stop per group percentage by the population percentage, a ratio of stop per population is established based on the data. A ratio of \"1\" implies an equal proportion of stops to population. The ratio is shown in the table below."
   ]
  },
  {
   "cell_type": "code",
   "execution_count": 116,
   "metadata": {},
   "outputs": [
    {
     "data": {
      "image/png": "[encoded data removed]",
      "text/plain": [
       "<Figure size 1008x576 with 1 Axes>"
      ]
     },
     "metadata": {
      "needs_background": "light"
     },
     "output_type": "display_data"
    }
   ],
   "source": [
    "df_ratio.plot(kind='barh', figsize=(14,8), color='mediumseagreen')\n",
    "\n",
    "plt.title('Fig 4: Demographics of Stops to Population Ratio', fontsize = 20)\n",
    "plt.xlabel('Ratio', fontsize = 14)\n",
    "                 \n",
    "plt.show()"
   ]
  },
  {
   "cell_type": "markdown",
   "metadata": {},
   "source": [
    "#### Reasons for Stops"
   ]
  },
  {
   "cell_type": "markdown",
   "metadata": {},
   "source": [
    "Over 93% of police stops are listed as \"Traffic Violation\" or \"Reasonable Suspicion\", with \"Traffic Violation\" being slightly more common. Due to this, the data percentages are more solid and less influenced by outliers and \"random events.\" Below, these values are compared."
   ]
  },
  {
   "cell_type": "code",
   "execution_count": 117,
   "metadata": {},
   "outputs": [
    {
     "data": {
      "image/png": "[encoded data removed]",
      "text/plain": [
       "<Figure size 1008x432 with 2 Axes>"
      ]
     },
     "metadata": {
      "needs_background": "light"
     },
     "output_type": "display_data"
    }
   ],
   "source": [
    "df_rstv = df_rper.iloc[6 : 8]\n",
    "df_rstv = df_rstv.drop(columns={'Reason for Stop', 'Total'})\n",
    "df_rstv = df_rstv.transpose()\n",
    "df_rs = df_rstv['Reasonable Suspicion'].sort_values(ascending = False)\n",
    "df_tv = df_rstv['Traffic Violation'].sort_values(ascending = False)\n",
    "\n",
    "fig = plt.figure() \n",
    "\n",
    "ax0 = fig.add_subplot(1, 2, 1) \n",
    "ax1 = fig.add_subplot(1, 2, 2) \n",
    "\n",
    "# Subplot 1: Box plot\n",
    "df_tv.plot(kind='bar', figsize=(14, 6), color='goldenrod', ax=ax0) \n",
    "ax0.set_title('Fig 5: Percentage of Stops for Traffic Violation, by Race', fontsize=13)\n",
    "ax0.set_xlabel('Race')\n",
    "ax0.set_ylabel('Percent')\n",
    "\n",
    "# Subplot 2: Line plot\n",
    "df_rs.plot(kind='bar', figsize=(14, 6), color= 'gray', ax=ax1) \n",
    "ax1.set_title ('Fig 6: Percentage of Stops for Reasonable Suspicion, by Race', fontsize=13)\n",
    "ax1.set_ylabel('Percent')\n",
    "ax1.set_xlabel('Race')\n",
    "\n",
    "plt.show()"
   ]
  },
  {
   "cell_type": "code",
   "execution_count": 118,
   "metadata": {},
   "outputs": [
    {
     "data": {
      "image/png": "[encoded data removed]",
      "text/plain": [
       "<Figure size 1008x576 with 1 Axes>"
      ]
     },
     "metadata": {
      "needs_background": "light"
     },
     "output_type": "display_data"
    }
   ],
   "source": [
    "df_rstv2 = df_rstv.sort_values(by = 'Traffic Violation', ascending = True)\n",
    "df_rstv2.plot(kind='bar', figsize = (14, 8), color=['gray', 'goldenrod'])\n",
    "plt.title('Fig 7: Percent of Traffic versus Suspicion Stops, per Race', fontsize=20)\n",
    "plt.xlabel('Race')\n",
    "plt.ylabel('Percent')\n",
    "plt.show()"
   ]
  },
  {
   "cell_type": "markdown",
   "metadata": {},
   "source": [
    "### Suggestions"
   ]
  },
  {
   "cell_type": "markdown",
   "metadata": {},
   "source": [
    "#### Observations"
   ]
  },
  {
   "cell_type": "markdown",
   "metadata": {},
   "source": [
    "##### Population versus Stops"
   ]
  },
  {
   "cell_type": "markdown",
   "metadata": {},
   "source": [
    "The data shows a disproportional relationship between race and likelihood of being stopped by the police. The ratio between the demographic percentages of stops and population are negligible for the \"Latinx\" persons, with the proportion of stops and population being nearly equal. \"White\" and \"Asian\" persons are somewhat less likely to be stopped by the police, and \"Native American\" persons is significantly less likely to be stopped by the police, though all three fall within a standard deviation of the ratio data. \"Black\" persons, however, is very significantly more like to be stopped by the police, falling nearly two standard deviations away from the 1:1 ratio.\n",
    "\n",
    "Therefore, the data implies a bias in the likelihood that a person will be stopped based on their race. If a person is \"Black\", they are well over two and a half times (more than 250%) likelier to be stopped than what would be considered average."
   ]
  },
  {
   "cell_type": "markdown",
   "metadata": {},
   "source": [
    "##### Reasons for Stops"
   ]
  },
  {
   "cell_type": "markdown",
   "metadata": {},
   "source": [
    "The data shows that \"Native American\" and \"Black\" persons are more likely to be stopped for \"Reasonable Suspicion\", whereas \"Latinx\" and \"Asian\" persons are more likely to be stopped for \"Traffic Violations\". \"White\" persons are more likely to be stopped for \"Reasonable Suspicion\", but only slightly.\n",
    "\n",
    "Due to this, the data implies that \"Native American\" and \"Black\" persons are more likely to be perceived as engaging in suspicious or illegal activity, whereas \"Latinx\" and \"Asian\" persons are less likely to be perceived as engaging in similar activities."
   ]
  },
  {
   "cell_type": "markdown",
   "metadata": {},
   "source": [
    "#### Recommendations"
   ]
  },
  {
   "cell_type": "markdown",
   "metadata": {},
   "source": [
    "Overall, the data implies that a negative bias does exist against \"Black\" persons, which increases the likelihood of being stopped in San Diego for \"Reasonable Suspicion.\" Further, the data also implies a positive bias against \"Asian\" persons, which decreases the chances of being stopped in San Diego, particularly for \"Reasonable Suspicion.\""
   ]
  },
  {
   "cell_type": "markdown",
   "metadata": {},
   "source": [
    "#### Data Improvements"
   ]
  },
  {
   "cell_type": "markdown",
   "metadata": {},
   "source": [
    "Following the completion of the 2020 Census, it would be ideal to re-evaluate this report with updated information, due to the constant shifting of demographics and populations. Further, if data were available by zip code or another geographic value, the data could be sorted based regions and sorted to analyze the demographic breakdowns of each region, rather than the city as a whole.\n",
    "\n",
    "Additional analysis performed on the results of each stop, rather than solely the reason, has the possibility to determine if there exists any justification behind the disproportionate number of stops."
   ]
  },
  {
   "cell_type": "markdown",
   "metadata": {},
   "source": [
    "### Conclusion"
   ]
  },
  {
   "cell_type": "markdown",
   "metadata": {},
   "source": [
    "The data clearly shows certain demographics are stopped more or less often than others, by comparing the percentages of San Diego's population to the percentage of stops by the San Diego Police Department. Particularly, \"Black\" persons are significantly more likely, well over two and one half times, to be stopped than the next most stopped race. Further, the data shows that \"Black\" persons are more likely than average to be stopped under \"Reasonable Suspicion,\" whereas \"Asian\" persons are significantly less likely to be stopped for \"Reasonable Suspicion.\" \n",
    "\n",
    "The data processed and analyzed in this report implies that, when comparing the demographics of stops with the population of San Diego, baises do exist, as shown by the disproportion of the stop rate of each race. "
   ]
  },
  {
   "cell_type": "code",
   "execution_count": null,
   "metadata": {},
   "outputs": [],
   "source": []
  },
  {
   "cell_type": "code",
   "execution_count": null,
   "metadata": {},
   "outputs": [],
   "source": []
  }
 ],
 "metadata": {
  "kernelspec": {
   "display_name": "Python",
   "language": "python",
   "name": "conda-env-python-py"
  },
  "language_info": {
   "codemirror_mode": {
    "name": "ipython",
    "version": 3
   },
   "file_extension": ".py",
   "mimetype": "text/x-python",
   "name": "python",
   "nbconvert_exporter": "python",
   "pygments_lexer": "ipython3",
   "version": "3.6.10"
  }
 },
 "nbformat": 4,
 "nbformat_minor": 4
}
